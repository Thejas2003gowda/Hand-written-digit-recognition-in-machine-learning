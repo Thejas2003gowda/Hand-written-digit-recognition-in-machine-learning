{
 "cells": [
  {
   "cell_type": "code",
   "execution_count": 1,
   "id": "7642a254",
   "metadata": {},
   "outputs": [],
   "source": [
    "import pandas as pd\n",
    "import numpy as np"
   ]
  },
  {
   "cell_type": "code",
   "execution_count": 2,
   "id": "b1fb6f3c",
   "metadata": {},
   "outputs": [],
   "source": [
    "from tensorflow.keras import datasets"
   ]
  },
  {
   "cell_type": "code",
   "execution_count": 3,
   "id": "5573b8e9",
   "metadata": {},
   "outputs": [
    {
     "data": {
      "text/plain": [
       "<module 'keras.api.datasets' from 'C:\\\\Users\\\\admin\\\\anaconda3\\\\Lib\\\\site-packages\\\\keras\\\\api\\\\datasets\\\\__init__.py'>"
      ]
     },
     "execution_count": 3,
     "metadata": {},
     "output_type": "execute_result"
    }
   ],
   "source": [
    "datasets"
   ]
  },
  {
   "cell_type": "code",
   "execution_count": 6,
   "id": "f4ac6e9e",
   "metadata": {},
   "outputs": [
    {
     "name": "stdout",
     "output_type": "stream",
     "text": [
      "Downloading data from https://storage.googleapis.com/tensorflow/tf-keras-datasets/mnist.npz\n",
      "\u001b[1m11490434/11490434\u001b[0m \u001b[32m━━━━━━━━━━━━━━━━━━━━\u001b[0m\u001b[37m\u001b[0m \u001b[1m2s\u001b[0m 0us/step\n"
     ]
    }
   ],
   "source": [
    "(x_train,y_train),(x_test,y_test)=datasets.mnist.load_data()"
   ]
  },
  {
   "cell_type": "code",
   "execution_count": 7,
   "id": "eac51d1f",
   "metadata": {},
   "outputs": [
    {
     "data": {
      "text/plain": [
       "array([[[0, 0, 0, ..., 0, 0, 0],\n",
       "        [0, 0, 0, ..., 0, 0, 0],\n",
       "        [0, 0, 0, ..., 0, 0, 0],\n",
       "        ...,\n",
       "        [0, 0, 0, ..., 0, 0, 0],\n",
       "        [0, 0, 0, ..., 0, 0, 0],\n",
       "        [0, 0, 0, ..., 0, 0, 0]],\n",
       "\n",
       "       [[0, 0, 0, ..., 0, 0, 0],\n",
       "        [0, 0, 0, ..., 0, 0, 0],\n",
       "        [0, 0, 0, ..., 0, 0, 0],\n",
       "        ...,\n",
       "        [0, 0, 0, ..., 0, 0, 0],\n",
       "        [0, 0, 0, ..., 0, 0, 0],\n",
       "        [0, 0, 0, ..., 0, 0, 0]],\n",
       "\n",
       "       [[0, 0, 0, ..., 0, 0, 0],\n",
       "        [0, 0, 0, ..., 0, 0, 0],\n",
       "        [0, 0, 0, ..., 0, 0, 0],\n",
       "        ...,\n",
       "        [0, 0, 0, ..., 0, 0, 0],\n",
       "        [0, 0, 0, ..., 0, 0, 0],\n",
       "        [0, 0, 0, ..., 0, 0, 0]],\n",
       "\n",
       "       ...,\n",
       "\n",
       "       [[0, 0, 0, ..., 0, 0, 0],\n",
       "        [0, 0, 0, ..., 0, 0, 0],\n",
       "        [0, 0, 0, ..., 0, 0, 0],\n",
       "        ...,\n",
       "        [0, 0, 0, ..., 0, 0, 0],\n",
       "        [0, 0, 0, ..., 0, 0, 0],\n",
       "        [0, 0, 0, ..., 0, 0, 0]],\n",
       "\n",
       "       [[0, 0, 0, ..., 0, 0, 0],\n",
       "        [0, 0, 0, ..., 0, 0, 0],\n",
       "        [0, 0, 0, ..., 0, 0, 0],\n",
       "        ...,\n",
       "        [0, 0, 0, ..., 0, 0, 0],\n",
       "        [0, 0, 0, ..., 0, 0, 0],\n",
       "        [0, 0, 0, ..., 0, 0, 0]],\n",
       "\n",
       "       [[0, 0, 0, ..., 0, 0, 0],\n",
       "        [0, 0, 0, ..., 0, 0, 0],\n",
       "        [0, 0, 0, ..., 0, 0, 0],\n",
       "        ...,\n",
       "        [0, 0, 0, ..., 0, 0, 0],\n",
       "        [0, 0, 0, ..., 0, 0, 0],\n",
       "        [0, 0, 0, ..., 0, 0, 0]]], dtype=uint8)"
      ]
     },
     "execution_count": 7,
     "metadata": {},
     "output_type": "execute_result"
    }
   ],
   "source": [
    "x_train"
   ]
  },
  {
   "cell_type": "code",
   "execution_count": 9,
   "id": "53e70782",
   "metadata": {},
   "outputs": [
    {
     "data": {
      "text/plain": [
       "array([5, 0, 4, ..., 5, 6, 8], dtype=uint8)"
      ]
     },
     "execution_count": 9,
     "metadata": {},
     "output_type": "execute_result"
    }
   ],
   "source": [
    "y_train"
   ]
  },
  {
   "cell_type": "code",
   "execution_count": 13,
   "id": "d389aab4",
   "metadata": {},
   "outputs": [],
   "source": [
    "width,height=28,28\n",
    "input_shape=(width,height,1)"
   ]
  },
  {
   "cell_type": "code",
   "execution_count": 15,
   "id": "86cb9007",
   "metadata": {},
   "outputs": [],
   "source": [
    "x_train=x_train.reshape(x_train.shape[0],height,width,1)\n",
    "x_test=x_test.reshape(x_test.shape[0],height,width,1)"
   ]
  },
  {
   "cell_type": "code",
   "execution_count": 16,
   "id": "5e3a07fa",
   "metadata": {},
   "outputs": [
    {
     "data": {
      "text/plain": [
       "(60000, 28, 28, 1)"
      ]
     },
     "execution_count": 16,
     "metadata": {},
     "output_type": "execute_result"
    }
   ],
   "source": [
    "x_train.shape"
   ]
  },
  {
   "cell_type": "code",
   "execution_count": 17,
   "id": "b1de5599",
   "metadata": {},
   "outputs": [
    {
     "data": {
      "text/plain": [
       "(60000,)"
      ]
     },
     "execution_count": 17,
     "metadata": {},
     "output_type": "execute_result"
    }
   ],
   "source": [
    "y_train.shape"
   ]
  },
  {
   "cell_type": "code",
   "execution_count": 18,
   "id": "690eeff8",
   "metadata": {},
   "outputs": [],
   "source": [
    "from sklearn.model_selection import train_test_split"
   ]
  },
  {
   "cell_type": "code",
   "execution_count": 20,
   "id": "331cd261",
   "metadata": {},
   "outputs": [],
   "source": [
    "x_train,x_val,y_train,y_val=train_test_split(x_train,y_train,test_size=0.1)"
   ]
  },
  {
   "cell_type": "code",
   "execution_count": 21,
   "id": "366b9556",
   "metadata": {},
   "outputs": [
    {
     "data": {
      "text/plain": [
       "54000"
      ]
     },
     "execution_count": 21,
     "metadata": {},
     "output_type": "execute_result"
    }
   ],
   "source": [
    "len(x_train)"
   ]
  },
  {
   "cell_type": "code",
   "execution_count": 22,
   "id": "e2983847",
   "metadata": {},
   "outputs": [
    {
     "data": {
      "text/plain": [
       "6000"
      ]
     },
     "execution_count": 22,
     "metadata": {},
     "output_type": "execute_result"
    }
   ],
   "source": [
    "len(x_val)"
   ]
  },
  {
   "cell_type": "code",
   "execution_count": 24,
   "id": "0af7eb3f",
   "metadata": {},
   "outputs": [],
   "source": [
    "x_train=(x_train-x_train.mean())/x_train.std()\n",
    "x_val=(x_val-x_val.mean())/x_val.std()\n",
    "x_test=(x_test-x_test.mean())/x_test.std()"
   ]
  },
  {
   "cell_type": "code",
   "execution_count": 29,
   "id": "0883393a",
   "metadata": {},
   "outputs": [
    {
     "data": {
      "text/plain": [
       "array([[[[-0.42405522],\n",
       "         [-0.42405522],\n",
       "         [-0.42405522],\n",
       "         ...,\n",
       "         [-0.42405522],\n",
       "         [-0.42405522],\n",
       "         [-0.42405522]],\n",
       "\n",
       "        [[-0.42405522],\n",
       "         [-0.42405522],\n",
       "         [-0.42405522],\n",
       "         ...,\n",
       "         [-0.42405522],\n",
       "         [-0.42405522],\n",
       "         [-0.42405522]],\n",
       "\n",
       "        [[-0.42405522],\n",
       "         [-0.42405522],\n",
       "         [-0.42405522],\n",
       "         ...,\n",
       "         [-0.42405522],\n",
       "         [-0.42405522],\n",
       "         [-0.42405522]],\n",
       "\n",
       "        ...,\n",
       "\n",
       "        [[-0.42405522],\n",
       "         [-0.42405522],\n",
       "         [-0.42405522],\n",
       "         ...,\n",
       "         [-0.42405522],\n",
       "         [-0.42405522],\n",
       "         [-0.42405522]],\n",
       "\n",
       "        [[-0.42405522],\n",
       "         [-0.42405522],\n",
       "         [-0.42405522],\n",
       "         ...,\n",
       "         [-0.42405522],\n",
       "         [-0.42405522],\n",
       "         [-0.42405522]],\n",
       "\n",
       "        [[-0.42405522],\n",
       "         [-0.42405522],\n",
       "         [-0.42405522],\n",
       "         ...,\n",
       "         [-0.42405522],\n",
       "         [-0.42405522],\n",
       "         [-0.42405522]]],\n",
       "\n",
       "\n",
       "       [[[-0.42405522],\n",
       "         [-0.42405522],\n",
       "         [-0.42405522],\n",
       "         ...,\n",
       "         [-0.42405522],\n",
       "         [-0.42405522],\n",
       "         [-0.42405522]],\n",
       "\n",
       "        [[-0.42405522],\n",
       "         [-0.42405522],\n",
       "         [-0.42405522],\n",
       "         ...,\n",
       "         [-0.42405522],\n",
       "         [-0.42405522],\n",
       "         [-0.42405522]],\n",
       "\n",
       "        [[-0.42405522],\n",
       "         [-0.42405522],\n",
       "         [-0.42405522],\n",
       "         ...,\n",
       "         [-0.42405522],\n",
       "         [-0.42405522],\n",
       "         [-0.42405522]],\n",
       "\n",
       "        ...,\n",
       "\n",
       "        [[-0.42405522],\n",
       "         [-0.42405522],\n",
       "         [-0.42405522],\n",
       "         ...,\n",
       "         [-0.42405522],\n",
       "         [-0.42405522],\n",
       "         [-0.42405522]],\n",
       "\n",
       "        [[-0.42405522],\n",
       "         [-0.42405522],\n",
       "         [-0.42405522],\n",
       "         ...,\n",
       "         [-0.42405522],\n",
       "         [-0.42405522],\n",
       "         [-0.42405522]],\n",
       "\n",
       "        [[-0.42405522],\n",
       "         [-0.42405522],\n",
       "         [-0.42405522],\n",
       "         ...,\n",
       "         [-0.42405522],\n",
       "         [-0.42405522],\n",
       "         [-0.42405522]]],\n",
       "\n",
       "\n",
       "       [[[-0.42405522],\n",
       "         [-0.42405522],\n",
       "         [-0.42405522],\n",
       "         ...,\n",
       "         [-0.42405522],\n",
       "         [-0.42405522],\n",
       "         [-0.42405522]],\n",
       "\n",
       "        [[-0.42405522],\n",
       "         [-0.42405522],\n",
       "         [-0.42405522],\n",
       "         ...,\n",
       "         [-0.42405522],\n",
       "         [-0.42405522],\n",
       "         [-0.42405522]],\n",
       "\n",
       "        [[-0.42405522],\n",
       "         [-0.42405522],\n",
       "         [-0.42405522],\n",
       "         ...,\n",
       "         [-0.42405522],\n",
       "         [-0.42405522],\n",
       "         [-0.42405522]],\n",
       "\n",
       "        ...,\n",
       "\n",
       "        [[-0.42405522],\n",
       "         [-0.42405522],\n",
       "         [-0.42405522],\n",
       "         ...,\n",
       "         [-0.42405522],\n",
       "         [-0.42405522],\n",
       "         [-0.42405522]],\n",
       "\n",
       "        [[-0.42405522],\n",
       "         [-0.42405522],\n",
       "         [-0.42405522],\n",
       "         ...,\n",
       "         [-0.42405522],\n",
       "         [-0.42405522],\n",
       "         [-0.42405522]],\n",
       "\n",
       "        [[-0.42405522],\n",
       "         [-0.42405522],\n",
       "         [-0.42405522],\n",
       "         ...,\n",
       "         [-0.42405522],\n",
       "         [-0.42405522],\n",
       "         [-0.42405522]]],\n",
       "\n",
       "\n",
       "       ...,\n",
       "\n",
       "\n",
       "       [[[-0.42405522],\n",
       "         [-0.42405522],\n",
       "         [-0.42405522],\n",
       "         ...,\n",
       "         [-0.42405522],\n",
       "         [-0.42405522],\n",
       "         [-0.42405522]],\n",
       "\n",
       "        [[-0.42405522],\n",
       "         [-0.42405522],\n",
       "         [-0.42405522],\n",
       "         ...,\n",
       "         [-0.42405522],\n",
       "         [-0.42405522],\n",
       "         [-0.42405522]],\n",
       "\n",
       "        [[-0.42405522],\n",
       "         [-0.42405522],\n",
       "         [-0.42405522],\n",
       "         ...,\n",
       "         [-0.42405522],\n",
       "         [-0.42405522],\n",
       "         [-0.42405522]],\n",
       "\n",
       "        ...,\n",
       "\n",
       "        [[-0.42405522],\n",
       "         [-0.42405522],\n",
       "         [-0.42405522],\n",
       "         ...,\n",
       "         [-0.42405522],\n",
       "         [-0.42405522],\n",
       "         [-0.42405522]],\n",
       "\n",
       "        [[-0.42405522],\n",
       "         [-0.42405522],\n",
       "         [-0.42405522],\n",
       "         ...,\n",
       "         [-0.42405522],\n",
       "         [-0.42405522],\n",
       "         [-0.42405522]],\n",
       "\n",
       "        [[-0.42405522],\n",
       "         [-0.42405522],\n",
       "         [-0.42405522],\n",
       "         ...,\n",
       "         [-0.42405522],\n",
       "         [-0.42405522],\n",
       "         [-0.42405522]]],\n",
       "\n",
       "\n",
       "       [[[-0.42405522],\n",
       "         [-0.42405522],\n",
       "         [-0.42405522],\n",
       "         ...,\n",
       "         [-0.42405522],\n",
       "         [-0.42405522],\n",
       "         [-0.42405522]],\n",
       "\n",
       "        [[-0.42405522],\n",
       "         [-0.42405522],\n",
       "         [-0.42405522],\n",
       "         ...,\n",
       "         [-0.42405522],\n",
       "         [-0.42405522],\n",
       "         [-0.42405522]],\n",
       "\n",
       "        [[-0.42405522],\n",
       "         [-0.42405522],\n",
       "         [-0.42405522],\n",
       "         ...,\n",
       "         [-0.42405522],\n",
       "         [-0.42405522],\n",
       "         [-0.42405522]],\n",
       "\n",
       "        ...,\n",
       "\n",
       "        [[-0.42405522],\n",
       "         [-0.42405522],\n",
       "         [-0.42405522],\n",
       "         ...,\n",
       "         [-0.42405522],\n",
       "         [-0.42405522],\n",
       "         [-0.42405522]],\n",
       "\n",
       "        [[-0.42405522],\n",
       "         [-0.42405522],\n",
       "         [-0.42405522],\n",
       "         ...,\n",
       "         [-0.42405522],\n",
       "         [-0.42405522],\n",
       "         [-0.42405522]],\n",
       "\n",
       "        [[-0.42405522],\n",
       "         [-0.42405522],\n",
       "         [-0.42405522],\n",
       "         ...,\n",
       "         [-0.42405522],\n",
       "         [-0.42405522],\n",
       "         [-0.42405522]]],\n",
       "\n",
       "\n",
       "       [[[-0.42405522],\n",
       "         [-0.42405522],\n",
       "         [-0.42405522],\n",
       "         ...,\n",
       "         [-0.42405522],\n",
       "         [-0.42405522],\n",
       "         [-0.42405522]],\n",
       "\n",
       "        [[-0.42405522],\n",
       "         [-0.42405522],\n",
       "         [-0.42405522],\n",
       "         ...,\n",
       "         [-0.42405522],\n",
       "         [-0.42405522],\n",
       "         [-0.42405522]],\n",
       "\n",
       "        [[-0.42405522],\n",
       "         [-0.42405522],\n",
       "         [-0.42405522],\n",
       "         ...,\n",
       "         [-0.42405522],\n",
       "         [-0.42405522],\n",
       "         [-0.42405522]],\n",
       "\n",
       "        ...,\n",
       "\n",
       "        [[-0.42405522],\n",
       "         [-0.42405522],\n",
       "         [-0.42405522],\n",
       "         ...,\n",
       "         [-0.42405522],\n",
       "         [-0.42405522],\n",
       "         [-0.42405522]],\n",
       "\n",
       "        [[-0.42405522],\n",
       "         [-0.42405522],\n",
       "         [-0.42405522],\n",
       "         ...,\n",
       "         [-0.42405522],\n",
       "         [-0.42405522],\n",
       "         [-0.42405522]],\n",
       "\n",
       "        [[-0.42405522],\n",
       "         [-0.42405522],\n",
       "         [-0.42405522],\n",
       "         ...,\n",
       "         [-0.42405522],\n",
       "         [-0.42405522],\n",
       "         [-0.42405522]]]])"
      ]
     },
     "execution_count": 29,
     "metadata": {},
     "output_type": "execute_result"
    }
   ],
   "source": [
    "x_train"
   ]
  },
  {
   "cell_type": "code",
   "execution_count": 25,
   "id": "17e8aed2",
   "metadata": {},
   "outputs": [],
   "source": [
    "from tensorflow import keras"
   ]
  },
  {
   "cell_type": "code",
   "execution_count": 27,
   "id": "5a6c5a67",
   "metadata": {},
   "outputs": [],
   "source": [
    "num_labels=10\n",
    "y_train=keras.utils.to_categorical(y_train)"
   ]
  },
  {
   "cell_type": "code",
   "execution_count": 28,
   "id": "397985f6",
   "metadata": {},
   "outputs": [
    {
     "data": {
      "text/plain": [
       "array([[0., 0., 0., ..., 1., 0., 0.],\n",
       "       [0., 1., 0., ..., 0., 0., 0.],\n",
       "       [0., 0., 0., ..., 0., 0., 0.],\n",
       "       ...,\n",
       "       [0., 0., 0., ..., 0., 0., 1.],\n",
       "       [0., 0., 0., ..., 0., 0., 0.],\n",
       "       [0., 0., 0., ..., 0., 0., 0.]])"
      ]
     },
     "execution_count": 28,
     "metadata": {},
     "output_type": "execute_result"
    }
   ],
   "source": [
    "y_train"
   ]
  },
  {
   "cell_type": "code",
   "execution_count": 30,
   "id": "14da3c5a",
   "metadata": {},
   "outputs": [],
   "source": [
    "y_val=keras.utils.to_categorical(y_val)\n",
    "y_test=keras.utils.to_categorical(y_test)"
   ]
  },
  {
   "cell_type": "markdown",
   "id": "952483ae",
   "metadata": {},
   "source": [
    "# MODELLING"
   ]
  },
  {
   "cell_type": "code",
   "execution_count": 35,
   "id": "6bdb69be",
   "metadata": {},
   "outputs": [],
   "source": [
    "from tensorflow.keras.models import Sequential\n",
    "from tensorflow.keras.layers import Dense,Dropout,Flatten,Input,Conv2D,MaxPooling2D,AveragePooling2D"
   ]
  },
  {
   "cell_type": "code",
   "execution_count": 38,
   "id": "f1665f49",
   "metadata": {},
   "outputs": [],
   "source": [
    "model=Sequential()\n",
    "model.add(Conv2D(6,kernel_size=(5,5),strides=(1,1),activation='tanh',input_shape=(28,28,1)))\n",
    "model.add(AveragePooling2D(pool_size=(2,2),strides=(1,1)))\n",
    "model.add(Conv2D(16,kernel_size=(5,5),strides=(1,1),activation='tanh'))\n",
    "model.add(AveragePooling2D(pool_size=(2,2),strides=(2,2)))\n",
    "model.add(Conv2D(120,kernel_size=(5,5),strides=(1,1),activation='tanh'))\n",
    "model.add(Flatten())\n",
    "model.add(Dense(84,activation='tanh'))\n",
    "model.add(Dense(num_labels,activation='softmax'))"
   ]
  },
  {
   "cell_type": "code",
   "execution_count": 40,
   "id": "87bad2f9",
   "metadata": {},
   "outputs": [
    {
     "data": {
      "text/html": [
       "<pre style=\"white-space:pre;overflow-x:auto;line-height:normal;font-family:Menlo,'DejaVu Sans Mono',consolas,'Courier New',monospace\"><span style=\"font-weight: bold\">Model: \"sequential_2\"</span>\n",
       "</pre>\n"
      ],
      "text/plain": [
       "\u001b[1mModel: \"sequential_2\"\u001b[0m\n"
      ]
     },
     "metadata": {},
     "output_type": "display_data"
    },
    {
     "data": {
      "text/html": [
       "<pre style=\"white-space:pre;overflow-x:auto;line-height:normal;font-family:Menlo,'DejaVu Sans Mono',consolas,'Courier New',monospace\">┏━━━━━━━━━━━━━━━━━━━━━━━━━━━━━━━━━━━━━━┳━━━━━━━━━━━━━━━━━━━━━━━━━━━━━┳━━━━━━━━━━━━━━━━━┓\n",
       "┃<span style=\"font-weight: bold\"> Layer (type)                         </span>┃<span style=\"font-weight: bold\"> Output Shape                </span>┃<span style=\"font-weight: bold\">         Param # </span>┃\n",
       "┡━━━━━━━━━━━━━━━━━━━━━━━━━━━━━━━━━━━━━━╇━━━━━━━━━━━━━━━━━━━━━━━━━━━━━╇━━━━━━━━━━━━━━━━━┩\n",
       "│ conv2d_4 (<span style=\"color: #0087ff; text-decoration-color: #0087ff\">Conv2D</span>)                    │ (<span style=\"color: #00d7ff; text-decoration-color: #00d7ff\">None</span>, <span style=\"color: #00af00; text-decoration-color: #00af00\">24</span>, <span style=\"color: #00af00; text-decoration-color: #00af00\">24</span>, <span style=\"color: #00af00; text-decoration-color: #00af00\">6</span>)           │             <span style=\"color: #00af00; text-decoration-color: #00af00\">156</span> │\n",
       "├──────────────────────────────────────┼─────────────────────────────┼─────────────────┤\n",
       "│ average_pooling2d_2                  │ (<span style=\"color: #00d7ff; text-decoration-color: #00d7ff\">None</span>, <span style=\"color: #00af00; text-decoration-color: #00af00\">23</span>, <span style=\"color: #00af00; text-decoration-color: #00af00\">23</span>, <span style=\"color: #00af00; text-decoration-color: #00af00\">6</span>)           │               <span style=\"color: #00af00; text-decoration-color: #00af00\">0</span> │\n",
       "│ (<span style=\"color: #0087ff; text-decoration-color: #0087ff\">AveragePooling2D</span>)                   │                             │                 │\n",
       "├──────────────────────────────────────┼─────────────────────────────┼─────────────────┤\n",
       "│ conv2d_5 (<span style=\"color: #0087ff; text-decoration-color: #0087ff\">Conv2D</span>)                    │ (<span style=\"color: #00d7ff; text-decoration-color: #00d7ff\">None</span>, <span style=\"color: #00af00; text-decoration-color: #00af00\">19</span>, <span style=\"color: #00af00; text-decoration-color: #00af00\">19</span>, <span style=\"color: #00af00; text-decoration-color: #00af00\">16</span>)          │           <span style=\"color: #00af00; text-decoration-color: #00af00\">2,416</span> │\n",
       "├──────────────────────────────────────┼─────────────────────────────┼─────────────────┤\n",
       "│ average_pooling2d_3                  │ (<span style=\"color: #00d7ff; text-decoration-color: #00d7ff\">None</span>, <span style=\"color: #00af00; text-decoration-color: #00af00\">9</span>, <span style=\"color: #00af00; text-decoration-color: #00af00\">9</span>, <span style=\"color: #00af00; text-decoration-color: #00af00\">16</span>)            │               <span style=\"color: #00af00; text-decoration-color: #00af00\">0</span> │\n",
       "│ (<span style=\"color: #0087ff; text-decoration-color: #0087ff\">AveragePooling2D</span>)                   │                             │                 │\n",
       "├──────────────────────────────────────┼─────────────────────────────┼─────────────────┤\n",
       "│ conv2d_6 (<span style=\"color: #0087ff; text-decoration-color: #0087ff\">Conv2D</span>)                    │ (<span style=\"color: #00d7ff; text-decoration-color: #00d7ff\">None</span>, <span style=\"color: #00af00; text-decoration-color: #00af00\">5</span>, <span style=\"color: #00af00; text-decoration-color: #00af00\">5</span>, <span style=\"color: #00af00; text-decoration-color: #00af00\">120</span>)           │          <span style=\"color: #00af00; text-decoration-color: #00af00\">48,120</span> │\n",
       "├──────────────────────────────────────┼─────────────────────────────┼─────────────────┤\n",
       "│ flatten_1 (<span style=\"color: #0087ff; text-decoration-color: #0087ff\">Flatten</span>)                  │ (<span style=\"color: #00d7ff; text-decoration-color: #00d7ff\">None</span>, <span style=\"color: #00af00; text-decoration-color: #00af00\">3000</span>)                │               <span style=\"color: #00af00; text-decoration-color: #00af00\">0</span> │\n",
       "├──────────────────────────────────────┼─────────────────────────────┼─────────────────┤\n",
       "│ dense_1 (<span style=\"color: #0087ff; text-decoration-color: #0087ff\">Dense</span>)                      │ (<span style=\"color: #00d7ff; text-decoration-color: #00d7ff\">None</span>, <span style=\"color: #00af00; text-decoration-color: #00af00\">84</span>)                  │         <span style=\"color: #00af00; text-decoration-color: #00af00\">252,084</span> │\n",
       "├──────────────────────────────────────┼─────────────────────────────┼─────────────────┤\n",
       "│ dense_2 (<span style=\"color: #0087ff; text-decoration-color: #0087ff\">Dense</span>)                      │ (<span style=\"color: #00d7ff; text-decoration-color: #00d7ff\">None</span>, <span style=\"color: #00af00; text-decoration-color: #00af00\">10</span>)                  │             <span style=\"color: #00af00; text-decoration-color: #00af00\">850</span> │\n",
       "└──────────────────────────────────────┴─────────────────────────────┴─────────────────┘\n",
       "</pre>\n"
      ],
      "text/plain": [
       "┏━━━━━━━━━━━━━━━━━━━━━━━━━━━━━━━━━━━━━━┳━━━━━━━━━━━━━━━━━━━━━━━━━━━━━┳━━━━━━━━━━━━━━━━━┓\n",
       "┃\u001b[1m \u001b[0m\u001b[1mLayer (type)                        \u001b[0m\u001b[1m \u001b[0m┃\u001b[1m \u001b[0m\u001b[1mOutput Shape               \u001b[0m\u001b[1m \u001b[0m┃\u001b[1m \u001b[0m\u001b[1m        Param #\u001b[0m\u001b[1m \u001b[0m┃\n",
       "┡━━━━━━━━━━━━━━━━━━━━━━━━━━━━━━━━━━━━━━╇━━━━━━━━━━━━━━━━━━━━━━━━━━━━━╇━━━━━━━━━━━━━━━━━┩\n",
       "│ conv2d_4 (\u001b[38;5;33mConv2D\u001b[0m)                    │ (\u001b[38;5;45mNone\u001b[0m, \u001b[38;5;34m24\u001b[0m, \u001b[38;5;34m24\u001b[0m, \u001b[38;5;34m6\u001b[0m)           │             \u001b[38;5;34m156\u001b[0m │\n",
       "├──────────────────────────────────────┼─────────────────────────────┼─────────────────┤\n",
       "│ average_pooling2d_2                  │ (\u001b[38;5;45mNone\u001b[0m, \u001b[38;5;34m23\u001b[0m, \u001b[38;5;34m23\u001b[0m, \u001b[38;5;34m6\u001b[0m)           │               \u001b[38;5;34m0\u001b[0m │\n",
       "│ (\u001b[38;5;33mAveragePooling2D\u001b[0m)                   │                             │                 │\n",
       "├──────────────────────────────────────┼─────────────────────────────┼─────────────────┤\n",
       "│ conv2d_5 (\u001b[38;5;33mConv2D\u001b[0m)                    │ (\u001b[38;5;45mNone\u001b[0m, \u001b[38;5;34m19\u001b[0m, \u001b[38;5;34m19\u001b[0m, \u001b[38;5;34m16\u001b[0m)          │           \u001b[38;5;34m2,416\u001b[0m │\n",
       "├──────────────────────────────────────┼─────────────────────────────┼─────────────────┤\n",
       "│ average_pooling2d_3                  │ (\u001b[38;5;45mNone\u001b[0m, \u001b[38;5;34m9\u001b[0m, \u001b[38;5;34m9\u001b[0m, \u001b[38;5;34m16\u001b[0m)            │               \u001b[38;5;34m0\u001b[0m │\n",
       "│ (\u001b[38;5;33mAveragePooling2D\u001b[0m)                   │                             │                 │\n",
       "├──────────────────────────────────────┼─────────────────────────────┼─────────────────┤\n",
       "│ conv2d_6 (\u001b[38;5;33mConv2D\u001b[0m)                    │ (\u001b[38;5;45mNone\u001b[0m, \u001b[38;5;34m5\u001b[0m, \u001b[38;5;34m5\u001b[0m, \u001b[38;5;34m120\u001b[0m)           │          \u001b[38;5;34m48,120\u001b[0m │\n",
       "├──────────────────────────────────────┼─────────────────────────────┼─────────────────┤\n",
       "│ flatten_1 (\u001b[38;5;33mFlatten\u001b[0m)                  │ (\u001b[38;5;45mNone\u001b[0m, \u001b[38;5;34m3000\u001b[0m)                │               \u001b[38;5;34m0\u001b[0m │\n",
       "├──────────────────────────────────────┼─────────────────────────────┼─────────────────┤\n",
       "│ dense_1 (\u001b[38;5;33mDense\u001b[0m)                      │ (\u001b[38;5;45mNone\u001b[0m, \u001b[38;5;34m84\u001b[0m)                  │         \u001b[38;5;34m252,084\u001b[0m │\n",
       "├──────────────────────────────────────┼─────────────────────────────┼─────────────────┤\n",
       "│ dense_2 (\u001b[38;5;33mDense\u001b[0m)                      │ (\u001b[38;5;45mNone\u001b[0m, \u001b[38;5;34m10\u001b[0m)                  │             \u001b[38;5;34m850\u001b[0m │\n",
       "└──────────────────────────────────────┴─────────────────────────────┴─────────────────┘\n"
      ]
     },
     "metadata": {},
     "output_type": "display_data"
    },
    {
     "data": {
      "text/html": [
       "<pre style=\"white-space:pre;overflow-x:auto;line-height:normal;font-family:Menlo,'DejaVu Sans Mono',consolas,'Courier New',monospace\"><span style=\"font-weight: bold\"> Total params: </span><span style=\"color: #00af00; text-decoration-color: #00af00\">303,626</span> (1.16 MB)\n",
       "</pre>\n"
      ],
      "text/plain": [
       "\u001b[1m Total params: \u001b[0m\u001b[38;5;34m303,626\u001b[0m (1.16 MB)\n"
      ]
     },
     "metadata": {},
     "output_type": "display_data"
    },
    {
     "data": {
      "text/html": [
       "<pre style=\"white-space:pre;overflow-x:auto;line-height:normal;font-family:Menlo,'DejaVu Sans Mono',consolas,'Courier New',monospace\"><span style=\"font-weight: bold\"> Trainable params: </span><span style=\"color: #00af00; text-decoration-color: #00af00\">303,626</span> (1.16 MB)\n",
       "</pre>\n"
      ],
      "text/plain": [
       "\u001b[1m Trainable params: \u001b[0m\u001b[38;5;34m303,626\u001b[0m (1.16 MB)\n"
      ]
     },
     "metadata": {},
     "output_type": "display_data"
    },
    {
     "data": {
      "text/html": [
       "<pre style=\"white-space:pre;overflow-x:auto;line-height:normal;font-family:Menlo,'DejaVu Sans Mono',consolas,'Courier New',monospace\"><span style=\"font-weight: bold\"> Non-trainable params: </span><span style=\"color: #00af00; text-decoration-color: #00af00\">0</span> (0.00 B)\n",
       "</pre>\n"
      ],
      "text/plain": [
       "\u001b[1m Non-trainable params: \u001b[0m\u001b[38;5;34m0\u001b[0m (0.00 B)\n"
      ]
     },
     "metadata": {},
     "output_type": "display_data"
    }
   ],
   "source": [
    "model.summary()"
   ]
  },
  {
   "cell_type": "code",
   "execution_count": 41,
   "id": "1ca1c98d",
   "metadata": {},
   "outputs": [],
   "source": [
    "model.compile(loss=keras.losses.categorical_crossentropy,optimizer='adam',metrics=['accuracy'])"
   ]
  },
  {
   "cell_type": "code",
   "execution_count": 42,
   "id": "a85ee9c5",
   "metadata": {},
   "outputs": [
    {
     "name": "stdout",
     "output_type": "stream",
     "text": [
      "Epoch 1/20\n",
      "\u001b[1m1688/1688\u001b[0m \u001b[32m━━━━━━━━━━━━━━━━━━━━\u001b[0m\u001b[37m\u001b[0m \u001b[1m40s\u001b[0m 21ms/step - accuracy: 0.9046 - loss: 0.3134 - val_accuracy: 0.9728 - val_loss: 0.0957\n",
      "Epoch 2/20\n",
      "\u001b[1m1688/1688\u001b[0m \u001b[32m━━━━━━━━━━━━━━━━━━━━\u001b[0m\u001b[37m\u001b[0m \u001b[1m34s\u001b[0m 20ms/step - accuracy: 0.9717 - loss: 0.0899 - val_accuracy: 0.9757 - val_loss: 0.0841\n",
      "Epoch 3/20\n",
      "\u001b[1m1688/1688\u001b[0m \u001b[32m━━━━━━━━━━━━━━━━━━━━\u001b[0m\u001b[37m\u001b[0m \u001b[1m33s\u001b[0m 20ms/step - accuracy: 0.9744 - loss: 0.0841 - val_accuracy: 0.9758 - val_loss: 0.0805\n",
      "Epoch 4/20\n",
      "\u001b[1m1688/1688\u001b[0m \u001b[32m━━━━━━━━━━━━━━━━━━━━\u001b[0m\u001b[37m\u001b[0m \u001b[1m34s\u001b[0m 20ms/step - accuracy: 0.9803 - loss: 0.0657 - val_accuracy: 0.9817 - val_loss: 0.0597\n",
      "Epoch 5/20\n",
      "\u001b[1m1688/1688\u001b[0m \u001b[32m━━━━━━━━━━━━━━━━━━━━\u001b[0m\u001b[37m\u001b[0m \u001b[1m33s\u001b[0m 19ms/step - accuracy: 0.9808 - loss: 0.0643 - val_accuracy: 0.9850 - val_loss: 0.0550\n",
      "Epoch 6/20\n",
      "\u001b[1m1688/1688\u001b[0m \u001b[32m━━━━━━━━━━━━━━━━━━━━\u001b[0m\u001b[37m\u001b[0m \u001b[1m33s\u001b[0m 19ms/step - accuracy: 0.9821 - loss: 0.0572 - val_accuracy: 0.9822 - val_loss: 0.0614\n",
      "Epoch 7/20\n",
      "\u001b[1m1688/1688\u001b[0m \u001b[32m━━━━━━━━━━━━━━━━━━━━\u001b[0m\u001b[37m\u001b[0m \u001b[1m34s\u001b[0m 20ms/step - accuracy: 0.9838 - loss: 0.0537 - val_accuracy: 0.9827 - val_loss: 0.0553\n",
      "Epoch 8/20\n",
      "\u001b[1m1688/1688\u001b[0m \u001b[32m━━━━━━━━━━━━━━━━━━━━\u001b[0m\u001b[37m\u001b[0m \u001b[1m33s\u001b[0m 19ms/step - accuracy: 0.9849 - loss: 0.0487 - val_accuracy: 0.9810 - val_loss: 0.0583\n",
      "Epoch 9/20\n",
      "\u001b[1m1688/1688\u001b[0m \u001b[32m━━━━━━━━━━━━━━━━━━━━\u001b[0m\u001b[37m\u001b[0m \u001b[1m34s\u001b[0m 20ms/step - accuracy: 0.9846 - loss: 0.0498 - val_accuracy: 0.9862 - val_loss: 0.0528\n",
      "Epoch 10/20\n",
      "\u001b[1m1688/1688\u001b[0m \u001b[32m━━━━━━━━━━━━━━━━━━━━\u001b[0m\u001b[37m\u001b[0m \u001b[1m28s\u001b[0m 17ms/step - accuracy: 0.9868 - loss: 0.0433 - val_accuracy: 0.9848 - val_loss: 0.0495\n",
      "Epoch 11/20\n",
      "\u001b[1m1688/1688\u001b[0m \u001b[32m━━━━━━━━━━━━━━━━━━━━\u001b[0m\u001b[37m\u001b[0m \u001b[1m23s\u001b[0m 13ms/step - accuracy: 0.9856 - loss: 0.0459 - val_accuracy: 0.9813 - val_loss: 0.0589\n",
      "Epoch 12/20\n",
      "\u001b[1m1688/1688\u001b[0m \u001b[32m━━━━━━━━━━━━━━━━━━━━\u001b[0m\u001b[37m\u001b[0m \u001b[1m23s\u001b[0m 13ms/step - accuracy: 0.9874 - loss: 0.0405 - val_accuracy: 0.9847 - val_loss: 0.0542\n",
      "Epoch 13/20\n",
      "\u001b[1m1688/1688\u001b[0m \u001b[32m━━━━━━━━━━━━━━━━━━━━\u001b[0m\u001b[37m\u001b[0m \u001b[1m22s\u001b[0m 13ms/step - accuracy: 0.9869 - loss: 0.0407 - val_accuracy: 0.9847 - val_loss: 0.0553\n",
      "Epoch 14/20\n",
      "\u001b[1m1688/1688\u001b[0m \u001b[32m━━━━━━━━━━━━━━━━━━━━\u001b[0m\u001b[37m\u001b[0m \u001b[1m23s\u001b[0m 14ms/step - accuracy: 0.9874 - loss: 0.0403 - val_accuracy: 0.9840 - val_loss: 0.0553\n",
      "Epoch 15/20\n",
      "\u001b[1m1688/1688\u001b[0m \u001b[32m━━━━━━━━━━━━━━━━━━━━\u001b[0m\u001b[37m\u001b[0m \u001b[1m23s\u001b[0m 13ms/step - accuracy: 0.9867 - loss: 0.0421 - val_accuracy: 0.9855 - val_loss: 0.0488\n",
      "Epoch 16/20\n",
      "\u001b[1m1688/1688\u001b[0m \u001b[32m━━━━━━━━━━━━━━━━━━━━\u001b[0m\u001b[37m\u001b[0m \u001b[1m23s\u001b[0m 13ms/step - accuracy: 0.9875 - loss: 0.0401 - val_accuracy: 0.9858 - val_loss: 0.0472\n",
      "Epoch 17/20\n",
      "\u001b[1m1688/1688\u001b[0m \u001b[32m━━━━━━━━━━━━━━━━━━━━\u001b[0m\u001b[37m\u001b[0m \u001b[1m22s\u001b[0m 13ms/step - accuracy: 0.9868 - loss: 0.0410 - val_accuracy: 0.9895 - val_loss: 0.0458\n",
      "Epoch 18/20\n",
      "\u001b[1m1688/1688\u001b[0m \u001b[32m━━━━━━━━━━━━━━━━━━━━\u001b[0m\u001b[37m\u001b[0m \u001b[1m23s\u001b[0m 14ms/step - accuracy: 0.9901 - loss: 0.0311 - val_accuracy: 0.9863 - val_loss: 0.0474\n",
      "Epoch 19/20\n",
      "\u001b[1m1688/1688\u001b[0m \u001b[32m━━━━━━━━━━━━━━━━━━━━\u001b[0m\u001b[37m\u001b[0m \u001b[1m24s\u001b[0m 14ms/step - accuracy: 0.9891 - loss: 0.0355 - val_accuracy: 0.9883 - val_loss: 0.0420\n",
      "Epoch 20/20\n",
      "\u001b[1m1688/1688\u001b[0m \u001b[32m━━━━━━━━━━━━━━━━━━━━\u001b[0m\u001b[37m\u001b[0m \u001b[1m40s\u001b[0m 14ms/step - accuracy: 0.9898 - loss: 0.0308 - val_accuracy: 0.9857 - val_loss: 0.0484\n"
     ]
    }
   ],
   "source": [
    "history=model.fit(x_train,y_train,batch_size=32,epochs=20,verbose=1,validation_data=(x_val,y_val))"
   ]
  },
  {
   "cell_type": "markdown",
   "id": "94f6fc40",
   "metadata": {},
   "source": [
    "# FINAL TESTING"
   ]
  },
  {
   "cell_type": "code",
   "execution_count": 43,
   "id": "660c155c",
   "metadata": {},
   "outputs": [
    {
     "name": "stdout",
     "output_type": "stream",
     "text": [
      "\u001b[1m313/313\u001b[0m \u001b[32m━━━━━━━━━━━━━━━━━━━━\u001b[0m\u001b[37m\u001b[0m \u001b[1m1s\u001b[0m 4ms/step - accuracy: 0.9819 - loss: 0.0575\n"
     ]
    }
   ],
   "source": [
    "score=model.evaluate(x_test,y_test,verbose=1)"
   ]
  },
  {
   "cell_type": "code",
   "execution_count": 44,
   "id": "f316ca5e",
   "metadata": {},
   "outputs": [
    {
     "data": {
      "text/plain": [
       "[0.046033382415771484, 0.98580002784729]"
      ]
     },
     "execution_count": 44,
     "metadata": {},
     "output_type": "execute_result"
    }
   ],
   "source": [
    "score"
   ]
  },
  {
   "cell_type": "code",
   "execution_count": null,
   "id": "f1e03ead",
   "metadata": {},
   "outputs": [],
   "source": []
  }
 ],
 "metadata": {
  "kernelspec": {
   "display_name": "Python 3 (ipykernel)",
   "language": "python",
   "name": "python3"
  },
  "language_info": {
   "codemirror_mode": {
    "name": "ipython",
    "version": 3
   },
   "file_extension": ".py",
   "mimetype": "text/x-python",
   "name": "python",
   "nbconvert_exporter": "python",
   "pygments_lexer": "ipython3",
   "version": "3.11.7"
  }
 },
 "nbformat": 4,
 "nbformat_minor": 5
}
